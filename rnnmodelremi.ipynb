{
 "cells": [
  {
   "cell_type": "code",
   "execution_count": null,
   "id": "b59576a7",
   "metadata": {},
   "outputs": [],
   "source": [
    "!git clone https://github.com/music-x-lab/POP909-Dataset.git\n",
    "!cd POP909-Dataset"
   ]
  },
  {
   "cell_type": "code",
   "execution_count": 1,
   "id": "d2c250f4",
   "metadata": {},
   "outputs": [
    {
     "name": "stderr",
     "output_type": "stream",
     "text": [
      "c:\\Users\\schng\\AppData\\Local\\Programs\\Python\\Python312\\Lib\\site-packages\\tqdm\\auto.py:21: TqdmWarning: IProgress not found. Please update jupyter and ipywidgets. See https://ipywidgets.readthedocs.io/en/stable/user_install.html\n",
      "  from .autonotebook import tqdm as notebook_tqdm\n"
     ]
    }
   ],
   "source": [
    "from symusic import Score\n",
    "from miditok import REMI\n",
    "import os\n",
    "\n",
    "tokenizer = REMI()\n",
    "\n",
    "def extract_tokens_from_midi(file_path: str):\n",
    "    score = Score.from_file(file_path)\n",
    "\n",
    "    token_sequences = tokenizer(score)\n",
    "\n",
    "    if not token_sequences:\n",
    "        return []\n",
    "\n",
    "    return token_sequences[0].tokens  # first track's tokens\n",
    "\n",
    "\n",
    "def collect_pop909_tokens(base_dir: str = r\"C:\\\\Documents\\\\CompSci\\\\CSE153\\\\assignment2\\\\POP909-Dataset\\\\POP909\"):\n",
    "\n",
    "    all_tokens: list[str] = []\n",
    "\n",
    "    for folder_id in range(1, 910):\n",
    "        folder_name = f\"{folder_id:03d}\"\n",
    "        folder_path = os.path.join(base_dir, folder_name)\n",
    "\n",
    "        if not os.path.isdir(folder_path):\n",
    "            continue\n",
    "\n",
    "        for fname in os.listdir(folder_path):\n",
    "            if fname.lower().endswith((\".mid\", \".midi\")):\n",
    "                fpath = os.path.join(folder_path, fname)\n",
    "                try:\n",
    "                    tokens = extract_tokens_from_midi(fpath)\n",
    "                    all_tokens.extend(tokens)  # append tokens to global list\n",
    "                except Exception as exc:\n",
    "                    print(f\"[WARN] Failed to tokenize {fpath}: {exc}\")\n",
    "\n",
    "    return all_tokens"
   ]
  },
  {
   "cell_type": "code",
   "execution_count": 2,
   "id": "a6772236",
   "metadata": {},
   "outputs": [
    {
     "name": "stdout",
     "output_type": "stream",
     "text": [
      "['Bar_None', 'Bar_None', 'Bar_None', 'Bar_None', 'Bar_None', 'Position_25', 'Pitch_61', 'Velocity_115', 'Duration_0.1.8', 'Position_27', 'Pitch_63', 'Velocity_111', 'Duration_0.1.8', 'Position_29', 'Pitch_66', 'Velocity_119', 'Duration_0.1.8', 'Position_31', 'Pitch_68', 'Velocity_111', 'Duration_0.1.8', 'Bar_None', 'Position_1', 'Pitch_70', 'Velocity_111', 'Duration_0.1.8', 'Position_5', 'Pitch_66', 'Velocity_111', 'Duration_0.2.8', 'Position_9', 'Pitch_63', 'Velocity_119', 'Duration_0.3.8', 'Position_13', 'Pitch_68', 'Velocity_115', 'Duration_1.4.8', 'Bar_None', 'Position_1', 'Pitch_68', 'Velocity_111', 'Duration_0.3.8', 'Position_5', 'Pitch_65', 'Velocity_115', 'Duration_0.2.8', 'Position_9', 'Pitch_61', 'Velocity_115', 'Duration_0.2.8', 'Position_13', 'Pitch_66', 'Velocity_119', 'Duration_1.1.8', 'Position_25', 'Pitch_61', 'Velocity_111', 'Duration_0.1.8', 'Position_27', 'Pitch_63', 'Velocity_111', 'Duration_0.1.8', 'Position_29', 'Pitch_66', 'Velocity_115', 'Duration_0.1.8', 'Position_31', 'Pitch_68', 'Velocity_111', 'Duration_0.1.8', 'Bar_None', 'Position_1', 'Pitch_70', 'Velocity_111', 'Duration_0.1.8', 'Position_5', 'Pitch_66', 'Velocity_111', 'Duration_0.3.8', 'Position_9', 'Pitch_63', 'Velocity_115', 'Duration_0.2.8', 'Position_13', 'Pitch_68', 'Velocity_115', 'Duration_0.6.8', 'Position_21', 'Pitch_61', 'Velocity_115', 'Duration_0.2.8', 'Position_25', 'Pitch_68', 'Velocity_115', 'Duration_0.2.8', 'Position_29', 'Pitch_66', 'Velocity_119', 'Duration_1.7.8']\n"
     ]
    }
   ],
   "source": [
    "token_sequence = collect_pop909_tokens()\n",
    "print(token_sequence[:100])"
   ]
  },
  {
   "cell_type": "code",
   "execution_count": 3,
   "id": "15b6046d",
   "metadata": {},
   "outputs": [
    {
     "name": "stdout",
     "output_type": "stream",
     "text": [
      "Epoch 1/5\n"
     ]
    },
    {
     "name": "stderr",
     "output_type": "stream",
     "text": [
      "c:\\Users\\schng\\AppData\\Local\\Programs\\Python\\Python312\\Lib\\site-packages\\keras\\src\\layers\\core\\embedding.py:97: UserWarning: Argument `input_length` is deprecated. Just remove it.\n",
      "  warnings.warn(\n"
     ]
    },
    {
     "name": "stdout",
     "output_type": "stream",
     "text": [
      "\u001b[1m20435/20435\u001b[0m \u001b[32m━━━━━━━━━━━━━━━━━━━━\u001b[0m\u001b[37m\u001b[0m \u001b[1m327s\u001b[0m 16ms/step - loss: 2.2028\n",
      "Epoch 2/5\n",
      "\u001b[1m20435/20435\u001b[0m \u001b[32m━━━━━━━━━━━━━━━━━━━━\u001b[0m\u001b[37m\u001b[0m \u001b[1m342s\u001b[0m 17ms/step - loss: 1.7497\n",
      "Epoch 3/5\n",
      "\u001b[1m20435/20435\u001b[0m \u001b[32m━━━━━━━━━━━━━━━━━━━━\u001b[0m\u001b[37m\u001b[0m \u001b[1m373s\u001b[0m 18ms/step - loss: 1.7120\n",
      "Epoch 4/5\n",
      "\u001b[1m20435/20435\u001b[0m \u001b[32m━━━━━━━━━━━━━━━━━━━━\u001b[0m\u001b[37m\u001b[0m \u001b[1m360s\u001b[0m 18ms/step - loss: 1.6882\n",
      "Epoch 5/5\n",
      "\u001b[1m20435/20435\u001b[0m \u001b[32m━━━━━━━━━━━━━━━━━━━━\u001b[0m\u001b[37m\u001b[0m \u001b[1m365s\u001b[0m 18ms/step - loss: 1.6712\n"
     ]
    },
    {
     "data": {
      "text/plain": [
       "<keras.src.callbacks.history.History at 0x16c40afa7b0>"
      ]
     },
     "execution_count": 3,
     "metadata": {},
     "output_type": "execute_result"
    }
   ],
   "source": [
    "import tensorflow as tf\n",
    "from tensorflow.keras import layers\n",
    "import numpy as np\n",
    "\n",
    "# 1. Build vocab\n",
    "unique_tokens = sorted(set(token_sequence))\n",
    "token_to_id = {tok: i for i, tok in enumerate(unique_tokens)}\n",
    "id_to_token = {i: tok for tok, i in token_to_id.items()}\n",
    "\n",
    "# 2. Encode tokens to ids\n",
    "encoded_sequence = [token_to_id[tok] for tok in token_sequence]\n",
    "\n",
    "seq_length = 20  # how many tokens in input sequence\n",
    "\n",
    "inputs = []\n",
    "targets = []\n",
    "\n",
    "for i in range(len(encoded_sequence) - seq_length):\n",
    "    inputs.append(encoded_sequence[i:i+seq_length])\n",
    "    targets.append(encoded_sequence[i+1:i+seq_length+1])\n",
    "\n",
    "inputs = np.array(inputs)\n",
    "targets = np.array(targets)\n",
    "\n",
    "vocab_size = len(unique_tokens)\n",
    "embedding_dim = 64\n",
    "rnn_units = 128\n",
    "\n",
    "model = tf.keras.Sequential([\n",
    "    layers.Embedding(vocab_size, embedding_dim, input_length=seq_length),\n",
    "    layers.LSTM(rnn_units, return_sequences=True),\n",
    "    layers.Dense(vocab_size, activation='softmax')\n",
    "])\n",
    "\n",
    "model.compile(optimizer='adam', loss='sparse_categorical_crossentropy')\n",
    "\n",
    "model.fit(inputs, targets, epochs=5, batch_size=64)"
   ]
  },
  {
   "cell_type": "code",
   "execution_count": 25,
   "id": "b309888a",
   "metadata": {},
   "outputs": [],
   "source": [
    "def generate_tokens(model, seed_sequence, gen_length=1000, temperature=1.0):\n",
    "    generated = list(seed_sequence)\n",
    "    audible_tokens = []\n",
    "\n",
    "    for _ in range(gen_length):\n",
    "        input_seq = np.array(generated[-seq_length:])[None, :]  # shape (1, seq_length)\n",
    "        preds = model.predict(input_seq, verbose=0)[0, -1]      # shape (vocab_size,)\n",
    "\n",
    "        # Temperature scaling\n",
    "        preds = np.log(preds + 1e-9) / temperature\n",
    "        exp_preds = np.exp(preds)\n",
    "        preds = exp_preds / np.sum(exp_preds)\n",
    "\n",
    "        # Sample from full probability distribution\n",
    "        next_id = np.random.choice(len(preds), p=preds)\n",
    "        generated.append(next_id)\n",
    "\n",
    "        # Collect audible tokens only\n",
    "        token_str = id_to_token[next_id]\n",
    "        #print(token_str)\n",
    "        audible_tokens.append(token_str)\n",
    "\n",
    "    return audible_tokens\n",
    "\n",
    "\n",
    "\n",
    "seed_seq = encoded_sequence[:seq_length]\n",
    "\n",
    "# Generate audible tokens only (strings), no top_k arg\n",
    "generated_tokens = generate_tokens(\n",
    "    model, \n",
    "    seed_sequence=seed_seq, \n",
    "    gen_length=1000, \n",
    "    temperature=1.0\n",
    ")\n"
   ]
  },
  {
   "cell_type": "code",
   "execution_count": 26,
   "id": "833d3abe",
   "metadata": {},
   "outputs": [
    {
     "name": "stdout",
     "output_type": "stream",
     "text": [
      "['Duration_0.1.8', 'Bar_None', 'Position_1', 'Pitch_75', 'Velocity_111', 'Duration_0.1.8', 'Position_4', 'Pitch_75', 'Velocity_111', 'Duration_0.1.8', 'Pitch_77', 'Velocity_111', 'Duration_0.1.8', 'Pitch_78', 'Velocity_111', 'Duration_0.1.8', 'Position_3', 'Pitch_77', 'Velocity_95', 'Duration_0.1.8', 'Pitch_77', 'Velocity_119', 'Duration_0.2.8', 'Pitch_77', 'Velocity_111', 'Duration_0.2.8', 'Position_13', 'Pitch_74', 'Velocity_111', 'Duration_0.3.8', 'Pitch_74', 'Velocity_111', 'Duration_1.3.8', 'Position_20', 'Pitch_72', 'Velocity_111', 'Duration_0.3.8', 'Pitch_79', 'Velocity_111', 'Duration_0.1.8', 'Pitch_79', 'Velocity_103', 'Duration_0.1.8', 'Pitch_79', 'Velocity_119', 'Duration_0.2.8', 'Position_27', 'Pitch_79', 'Velocity_103', 'Duration_0.2.8', 'Pitch_79', 'Velocity_111', 'Duration_0.2.8', 'Pitch_79', 'Velocity_111', 'Duration_0.1.8', 'Position_26', 'Pitch_79', 'Velocity_107', 'Duration_0.1.8', 'Position_28', 'Pitch_79', 'Velocity_107', 'Duration_0.1.8', 'Pitch_79', 'Velocity_103', 'Duration_0.1.8', 'Position_28', 'Pitch_79', 'Velocity_103', 'Duration_0.2.8', 'Pitch_79', 'Velocity_115', 'Duration_0.2.8', 'Pitch_79', 'Velocity_115', 'Duration_0.2.8', 'Position_24', 'Pitch_77', 'Velocity_115', 'Duration_0.1.8', 'Pitch_76', 'Velocity_115', 'Duration_0.1.8', 'Pitch_79', 'Velocity_115', 'Duration_0.1.8', 'Position_22', 'Pitch_79', 'Velocity_123', 'Duration_0.1.8', 'Pitch_79', 'Velocity_119', 'Duration_0.1.8', 'Position_24', 'Pitch_82', 'Velocity_119', 'Duration_0.1.8', 'Pitch_79', 'Velocity_111', 'Duration_0.1.8', 'Pitch_79', 'Velocity_111', 'Duration_0.1.8', 'Position_27', 'Pitch_77', 'Velocity_119', 'Duration_0.1.8', 'Velocity_119', 'Pitch_77', 'Velocity_115', 'Duration_0.3.8', 'Bar_None', 'Position_1', 'Pitch_79', 'Velocity_115', 'Duration_2.0.8', 'Bar_None', 'Position_17', 'Pitch_81', 'Velocity_119', 'Duration_0.3.8', 'Position_25', 'Pitch_82', 'Velocity_111', 'Duration_0.2.8', 'Position_29', 'Pitch_79', 'Velocity_107', 'Duration_0.6.8', 'Bar_None', 'Position_5', 'Pitch_81', 'Velocity_115', 'Duration_0.5.8', 'Position_13', 'Pitch_77', 'Velocity_103', 'Duration_0.3.8', 'Position_17', 'Pitch_81', 'Velocity_99', 'Duration_0.4.8', 'Position_21', 'Pitch_77', 'Velocity_107', 'Duration_0.6.8', 'Bar_None', 'Position_1', 'Pitch_72', 'Velocity_111', 'Duration_1.1.8', 'Position_11', 'Pitch_75', 'Velocity_95', 'Duration_0.4.8', 'Position_15', 'Pitch_77', 'Velocity_87', 'Duration_0.6.8', 'Position_21', 'Pitch_75', 'Velocity_99', 'Duration_1.4.8', 'Bar_None', 'Position_1', 'Pitch_72', 'Velocity_95', 'Duration_1.0.8', 'Position_13', 'Pitch_74', 'Velocity_83', 'Duration_3.0.8', 'Bar_None', 'Position_7', 'Pitch_74', 'Velocity_87', 'Duration_0.1.8', 'Position_9', 'Pitch_74', 'Velocity_91', 'Duration_0.2.8', 'Position_11', 'Pitch_76', 'Velocity_95', 'Duration_0.5.8', 'Position_17', 'Pitch_76', 'Velocity_91', 'Duration_0.2.8', 'Position_19', 'Pitch_78', 'Velocity_91', 'Duration_0.3.8', 'Position_23', 'Pitch_71', 'Velocity_95', 'Duration_0.1.8', 'Position_25', 'Pitch_76', 'Velocity_91', 'Duration_0.5.8', 'Bar_None', 'Position_1', 'Pitch_81', 'Velocity_95', 'Duration_0.1.8', 'Position_3', 'Pitch_81', 'Velocity_91', 'Duration_0.1.8', 'Position_5', 'Pitch_80', 'Velocity_95', 'Duration_0.1.8', 'Position_7', 'Pitch_76', 'Velocity_119', 'Duration_0.4.8', 'Position_11', 'Pitch_78', 'Velocity_111', 'Duration_0.3.8', 'Position_15', 'Pitch_76', 'Velocity_103', 'Duration_0.3.8', 'Position_17', 'Pitch_78', 'Velocity_95', 'Duration_0.1.8', 'Position_19', 'Pitch_76', 'Velocity_95', 'Duration_0.1.8', 'Position_21', 'Pitch_76', 'Velocity_99', 'Duration_0.1.8', 'Position_25', 'Pitch_78', 'Velocity_107', 'Duration_0.1.8', 'Position_29', 'Pitch_76', 'Velocity_111', 'Duration_0.3.8', 'Bar_None', 'Position_1', 'Pitch_76', 'Velocity_95', 'Duration_0.3.8', 'Position_5', 'Pitch_74', 'Velocity_79', 'Duration_0.2.8', 'Position_9', 'Pitch_76', 'Velocity_99', 'Duration_0.3.8', 'Position_13', 'Pitch_76', 'Velocity_95', 'Duration_0.4.8', 'Position_17', 'Pitch_76', 'Velocity_95', 'Duration_0.6.8', 'Position_25', 'Pitch_78', 'Velocity_91', 'Duration_0.3.8', 'Position_29', 'Pitch_81', 'Velocity_83', 'Duration_0.2.8', 'Bar_None', 'Position_1', 'Pitch_83', 'Velocity_91', 'Duration_0.3.8', 'Position_5', 'Pitch_88', 'Velocity_95', 'Duration_0.3.8', 'Position_9', 'Pitch_83', 'Velocity_91', 'Duration_0.1.8', 'Position_11', 'Pitch_78', 'Velocity_91', 'Duration_0.3.8', 'Position_15', 'Pitch_76', 'Velocity_87', 'Duration_0.1.8', 'Position_17', 'Pitch_78', 'Velocity_95', 'Duration_2.2.8', 'Bar_None', 'Position_11', 'Pitch_79', 'Velocity_95', 'Duration_0.2.8', 'Position_15', 'Pitch_81', 'Velocity_87', 'Duration_0.2.8', 'Position_19', 'Pitch_81', 'Velocity_95', 'Duration_0.4.8', 'Position_23', 'Pitch_74', 'Velocity_79', 'Duration_0.2.8', 'Position_27', 'Pitch_76', 'Velocity_87', 'Duration_0.4.8', 'Bar_None', 'Position_3', 'Pitch_77', 'Velocity_87', 'Duration_0.4.8', 'Position_7', 'Pitch_77', 'Velocity_115', 'Duration_0.4.8', 'Position_11', 'Pitch_77', 'Velocity_87', 'Duration_0.7.8', 'Position_19', 'Pitch_70', 'Velocity_87', 'Duration_0.4.8', 'Position_23', 'Pitch_70', 'Velocity_87', 'Duration_0.3.8', 'Position_27', 'Pitch_75', 'Velocity_83', 'Duration_0.7.8', 'Bar_None', 'Position_3', 'Pitch_73', 'Velocity_87', 'Duration_0.4.8', 'Position_7', 'Pitch_75', 'Velocity_83', 'Duration_0.3.8', 'Position_11', 'Pitch_73', 'Velocity_87', 'Duration_0.6.8', 'Position_19', 'Pitch_71', 'Velocity_83', 'Duration_0.3.8', 'Position_23', 'Pitch_73', 'Velocity_87', 'Duration_0.4.8', 'Position_27', 'Pitch_71', 'Velocity_83', 'Duration_0.3.8', 'Position_31', 'Pitch_66', 'Velocity_87', 'Duration_3.1.8', 'Bar_None', 'Position_31', 'Pitch_73', 'Velocity_83', 'Duration_0.4.8', 'Bar_None', 'Position_3', 'Pitch_71', 'Velocity_83', 'Duration_0.2.8', 'Position_7', 'Pitch_73', 'Velocity_91', 'Duration_0.3.8', 'Position_11', 'Pitch_78', 'Velocity_83', 'Duration_0.3.8', 'Position_15', 'Pitch_76', 'Velocity_91', 'Duration_0.3.8', 'Position_19', 'Pitch_74', 'Velocity_91', 'Duration_0.6.8', 'Position_27', 'Pitch_73', 'Velocity_87', 'Duration_0.2.8', 'Position_31', 'Pitch_71', 'Velocity_87', 'Duration_0.6.8', 'Bar_None', 'Position_11', 'Pitch_74', 'Velocity_87', 'Duration_0.2.8', 'Position_15', 'Pitch_74', 'Velocity_95', 'Duration_0.7.8', 'Position_27', 'Pitch_72', 'Velocity_87', 'Duration_0.2.8', 'Position_31', 'Pitch_72', 'Velocity_87', 'Duration_0.3.8', 'Bar_None', 'Position_3', 'Pitch_77', 'Velocity_87', 'Duration_0.4.8', 'Position_7', 'Pitch_74', 'Velocity_91', 'Duration_2.2.8', 'Position_27', 'Pitch_77', 'Velocity_87', 'Duration_0.1.8', 'Position_31', 'Pitch_74', 'Velocity_91', 'Duration_0.1.8', 'Bar_None', 'Position_3', 'Pitch_75', 'Velocity_87', 'Duration_0.3.8', 'Position_7', 'Pitch_72', 'Velocity_83', 'Duration_0.4.8', 'Position_11', 'Pitch_75', 'Velocity_79', 'Duration_0.4.8', 'Position_15', 'Pitch_72', 'Velocity_79', 'Duration_0.4.8', 'Position_19', 'Pitch_70', 'Velocity_71', 'Duration_1.0.8', 'Position_27', 'Pitch_67', 'Velocity_79', 'Duration_0.4.8', 'Position_31', 'Pitch_75', 'Velocity_79', 'Duration_0.4.8', 'Bar_None', 'Position_3', 'Pitch_77', 'Velocity_79', 'Duration_1.0.8', 'Position_11', 'Pitch_75', 'Velocity_79', 'Duration_1.0.8', 'Position_19', 'Pitch_77', 'Velocity_79', 'Duration_1.0.8', 'Position_27', 'Pitch_74', 'Velocity_75', 'Duration_3.0.8', 'Bar_None', 'Bar_None', 'Bar_None', 'Position_7', 'Pitch_77', 'Velocity_83', 'Duration_0.2.8', 'Position_11', 'Pitch_77', 'Velocity_79', 'Duration_0.2.8', 'Position_15', 'Pitch_77', 'Velocity_83', 'Duration_0.3.8', 'Position_19', 'Pitch_77', 'Velocity_75', 'Duration_0.2.8', 'Position_23', 'Pitch_79', 'Velocity_87', 'Duration_0.3.8', 'Position_27', 'Pitch_77', 'Velocity_87', 'Duration_0.2.8', 'Position_31', 'Pitch_77', 'Velocity_87', 'Duration_0.2.8', 'Bar_None', 'Position_3', 'Pitch_77', 'Velocity_87', 'Duration_0.1.8', 'Position_7', 'Pitch_77', 'Velocity_87', 'Duration_0.1.8', 'Position_11', 'Pitch_77', 'Velocity_87', 'Duration_0.2.8', 'Position_15', 'Pitch_77', 'Velocity_95', 'Duration_0.1.8', 'Position_17', 'Pitch_77', 'Velocity_87', 'Duration_0.2.8', 'Position_22', 'Pitch_78', 'Velocity_87', 'Duration_0.2.8', 'Position_25', 'Pitch_79', 'Velocity_91', 'Duration_0.3.8', 'Position_29', 'Pitch_77', 'Velocity_71', 'Duration_0.2.8', 'Bar_None', 'Position_0', 'Pitch_75', 'Velocity_75', 'Duration_0.2.8', 'Position_3', 'Pitch_73', 'Velocity_87', 'Duration_0.2.8', 'Position_5', 'Pitch_75', 'Velocity_83', 'Duration_0.2.8', 'Position_8', 'Pitch_75', 'Velocity_79', 'Duration_0.1.8', 'Position_13', 'Pitch_78', 'Velocity_83', 'Duration_0.3.8', 'Position_17', 'Pitch_77', 'Velocity_83', 'Duration_0.3.8', 'Position_21', 'Pitch_75', 'Velocity_79', 'Duration_0.6.8', 'Position_28', 'Pitch_77', 'Velocity_79', 'Duration_0.7.8', 'Bar_None', 'Position_3', 'Pitch_77', 'Velocity_79', 'Duration_0.7.8', 'Position_9', 'Pitch_77', 'Velocity_83', 'Duration_0.3.8', 'Position_13', 'Pitch_75', 'Velocity_75', 'Duration_0.4.8', 'Position_17', 'Pitch_70', 'Velocity_83', 'Duration_2.3.8', 'Bar_None', 'Position_17', 'Pitch_63', 'Velocity_83', 'Duration_0.3.8', 'Position_21', 'Pitch_63', 'Velocity_83', 'Duration_0.7.8', 'Position_29', 'Pitch_61', 'Velocity_83', 'Duration_0.7.8', 'Bar_None', 'Position_9', 'Pitch_61', 'Velocity_83', 'Duration_0.4.8', 'Position_13', 'Pitch_63', 'Velocity_75', 'Duration_0.3.8', 'Position_17', 'Pitch_66', 'Velocity_83', 'Duration_0.3.8', 'Position_23', 'Pitch_61', 'Velocity_79', 'Duration_0.6.8', 'Position_29', 'Pitch_68', 'Velocity_75', 'Duration_0.4.8', 'Bar_None', 'Position_3', 'Pitch_68', 'Velocity_75', 'Duration_0.2.8', 'Position_5', 'Pitch_70', 'Velocity_75', 'Duration_0.2.8', 'Position_7', 'Pitch_66', 'Velocity_71', 'Duration_0.2.8', 'Position_9', 'Pitch_66', 'Velocity_75', 'Duration_0.2.8', 'Position_11', 'Pitch_66', 'Velocity_67', 'Duration_0.2.8', 'Position_13', 'Pitch_68', 'Velocity_75', 'Duration_0.6.8', 'Position_19', 'Pitch_66', 'Velocity_75', 'Duration_0.1.8', 'Position_21', 'Pitch_66', 'Velocity_79', 'Duration_0.6.8', 'Position_29', 'Pitch_63', 'Velocity_75', 'Duration_0.2.8', 'Bar_None', 'Position_1', 'Pitch_59', 'Velocity_75', 'Duration_1.0.8', 'Position_9', 'Pitch_56', 'Velocity_91', 'Duration_0.4.8', 'Position_13', 'Pitch_59', 'Velocity_75', 'Duration_0.7.8', 'Position_21', 'Pitch_61', 'Velocity_59', 'Duration_0.6.8', 'Position_25', 'Pitch_61', 'Velocity_31', 'Duration_1.7.8', 'Bar_None', 'Position_17', 'Pitch_64', 'Velocity_67', 'Duration_0.1.8', 'Position_19', 'Pitch_61', 'Velocity_71', 'Duration_0.1.8', 'Position_21', 'Pitch_59', 'Velocity_83', 'Duration_1.1.8', 'Bar_None', 'Position_15', 'Pitch_66', 'Velocity_99', 'Duration_0.2.8', 'Position_19', 'Pitch_67', 'Velocity_83', 'Duration_0.2.8', 'Position_23', 'Pitch_66', 'Velocity_91', 'Duration_0.3.8', 'Position_27', 'Pitch_69', 'Velocity_87', 'Duration_0.6.8', 'Bar_None', 'Position_1', 'Pitch_67', 'Velocity_91', 'Duration_0.2.8', 'Position_5', 'Pitch_64', 'Velocity_91', 'Duration_0.3.8', 'Position_9', 'Pitch_64', 'Velocity_87', 'Duration_0.3.8', 'Position_13', 'Pitch_66', 'Velocity_91', 'Duration_0.3.8', 'Position_17', 'Pitch_62', 'Velocity_91', 'Duration_0.6.8', 'Position_25', 'Pitch_64', 'Velocity_95', 'Duration_0.3.8', 'Position_29', 'Pitch_64', 'Velocity_91', 'Duration_0.4.8', 'Bar_None', 'Position_1', 'Pitch_62', 'Velocity_91', 'Duration_0.3.8', 'Position_5', 'Pitch_62', 'Velocity_87', 'Duration_0.2.8', 'Position_9', 'Pitch_62', 'Velocity_95', 'Duration_0.7.8', 'Position_17', 'Pitch_55', 'Velocity_79', 'Duration_0.3.8', 'Position_21', 'Pitch_57', 'Velocity_79', 'Duration_0.3.8', 'Position_25', 'Pitch_57', 'Velocity_91', 'Duration_0.3.8', 'Position_29', 'Pitch_57', 'Velocity_99', 'Duration_0.3.8', 'Bar_None', 'Position_1', 'Pitch_62', 'Velocity_99', 'Duration_1.0.8', 'Position_9', 'Pitch_55', 'Velocity_87', 'Duration_2.5.8', 'Bar_None', 'Position_21', 'Pitch_62', 'Velocity_95', 'Duration_0.4.8', 'Position_25', 'Pitch_62', 'Velocity_87', 'Duration_0.4.8', 'Position_29', 'Pitch_63', 'Velocity_95', 'Duration_0.3.8', 'Bar_None', 'Position_1', 'Pitch_67', 'Velocity_107', 'Duration_0.3.8', 'Position_5', 'Pitch_65', 'Velocity_111', 'Duration_0.5.8', 'Position_13', 'Pitch_62', 'Velocity_107', 'Duration_0.3.8', 'Position_17', 'Pitch_64', 'Velocity_119', 'Duration_0.3.8', 'Bar_None', 'Position_1', 'Pitch_60', 'Velocity_119', 'Duration_0.6.8', 'Position_13', 'Pitch_57', 'Velocity_99', 'Duration_0.5.8', 'Position_21', 'Pitch_62', 'Velocity_119', 'Duration_0.6.8', 'Position_29', 'Pitch_58', 'Velocity_103', 'Duration_0.2.8', 'Bar_None', 'Position_1', 'Pitch_60', 'Velocity_103', 'Duration_1.3.8', 'Position_17', 'Pitch_67', 'Velocity_119', 'Duration_0.6.8', 'Position_25', 'Pitch_67', 'Velocity_127', 'Duration_0.2.8', 'Position_29', 'Pitch_65', 'Velocity_99', 'Duration_0.2.8', 'Bar_None', 'Position_1', 'Pitch_67', 'Velocity_111', 'Duration_0.4.8', 'Position_5', 'Pitch_63', 'Velocity_99', 'Duration_0.2.8', 'Position_9', 'Pitch_62', 'Velocity_111', 'Duration_0.4.8', 'Position_13', 'Pitch_62', 'Velocity_111', 'Duration_0.4.8', 'Position_17', 'Pitch_62', 'Velocity_99', 'Duration_0.2.8', 'Position_19', 'Pitch_60', 'Velocity_91', 'Duration_2.2.8', 'Bar_None', 'Position_7', 'Pitch_57', 'Velocity_91', 'Duration_0.2.8', 'Position_9', 'Pitch_57', 'Velocity_99', 'Duration_0.4.8', 'Position_13', 'Pitch_53', 'Velocity_107', 'Duration_1.1.8', 'Position_21', 'Pitch_55', 'Velocity_91', 'Duration_0.2.8', 'Position_25', 'Pitch_57', 'Velocity_107', 'Duration_0.3.8', 'Position_29', 'Pitch_60', 'Velocity_99', 'Duration_0.2.8', 'Bar_None', 'Position_1', 'Pitch_57', 'Velocity_99', 'Duration_0.7.8', 'Position_9', 'Pitch_57', 'Velocity_91', 'Duration_1.0.8', 'Position_17', 'Pitch_55', 'Velocity_87', 'Duration_0.2.8', 'Position_21', 'Pitch_58', 'Velocity_71', 'Duration_0.3.8', 'Position_25', 'Pitch_58', 'Velocity_99', 'Duration_0.4.8', 'Bar_None', 'Position_1', 'Pitch_58', 'Velocity_79', 'Duration_0.1.8', 'Position_5', 'Pitch_58', 'Velocity_127', 'Duration_0.4.8', 'Position_9', 'Pitch_67', 'Velocity_87', 'Duration_0.4.8', 'Position_13', 'Pitch_74', 'Velocity_127', 'Duration_0.2.8', 'Position_15', 'Pitch_72', 'Velocity_123', 'Duration_0.4.8', 'Position_21', 'Pitch_69', 'Velocity_107', 'Duration_0.2.8', 'Position_25', 'Pitch_71', 'Velocity_127', 'Duration_0.3.8', 'Position_29', 'Pitch_69', 'Velocity_87', 'Duration_0.1.8', 'Position_29', 'Pitch_69', 'Velocity_107', 'Duration_0.1.8', 'Bar_None', 'Position_1', 'Pitch_69', 'Velocity_119', 'Duration_0.2.8', 'Position_5', 'Pitch_72', 'Velocity_127', 'Duration_0.4.8', 'Position_9', 'Pitch_74', 'Velocity_99', 'Duration_0.3.8', 'Position_13', 'Pitch_72', 'Velocity_127', 'Duration_0.2.8', 'Position_17', 'Pitch_74', 'Velocity_107', 'Duration_0.4.8', 'Position_21', 'Pitch_77', 'Velocity_127', 'Duration_0.2.8', 'Position_25', 'Pitch_77', 'Velocity_107', 'Duration_0.3.8', 'Position_29', 'Pitch_77', 'Velocity_127', 'Duration_0.3.8', 'Bar_None', 'Position_5']\n"
     ]
    }
   ],
   "source": [
    "print(generated_tokens)\n",
    "\n",
    "score = tokenizer([generated_tokens])  # this is equivalent to tokenizer.decode()\n",
    "\n",
    "# Save to MIDI\n",
    "score.dump_midi(\"generated_piece.mid\")"
   ]
  }
 ],
 "metadata": {
  "kernelspec": {
   "display_name": "Python 3",
   "language": "python",
   "name": "python3"
  },
  "language_info": {
   "codemirror_mode": {
    "name": "ipython",
    "version": 3
   },
   "file_extension": ".py",
   "mimetype": "text/x-python",
   "name": "python",
   "nbconvert_exporter": "python",
   "pygments_lexer": "ipython3",
   "version": "3.12.4"
  }
 },
 "nbformat": 4,
 "nbformat_minor": 5
}
