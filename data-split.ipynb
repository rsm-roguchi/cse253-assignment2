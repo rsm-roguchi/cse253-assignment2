{
 "cells": [
  {
   "cell_type": "code",
   "execution_count": 2,
   "id": "44413ba8",
   "metadata": {},
   "outputs": [],
   "source": [
    "import os\n",
    "import shutil\n",
    "from math import ceil\n",
    "import zipfile"
   ]
  },
  {
   "cell_type": "code",
   "execution_count": null,
   "id": "3818806c",
   "metadata": {},
   "outputs": [],
   "source": [
    "\n",
    "\n",
    "def split_folder_into_parts(source_dir, num_parts=50):\n",
    "    files = sorted([f for f in os.listdir(source_dir) if os.path.isfile(os.path.join(source_dir, f))])\n",
    "    total_files = len(files)\n",
    "    chunk_size = ceil(total_files / num_parts)\n",
    "\n",
    "    for i in range(num_parts):\n",
    "        part_dir = os.path.join(source_dir, f'part_{i+1}')\n",
    "        os.makedirs(part_dir, exist_ok=True)\n",
    "        for f in files[i * chunk_size : (i + 1) * chunk_size]:\n",
    "            shutil.move(os.path.join(source_dir, f), os.path.join(part_dir, f))\n",
    "\n",
    "# Example usage:\n",
    "split_folder_into_parts(\"train\")\n"
   ]
  },
  {
   "cell_type": "code",
   "execution_count": 1,
   "id": "babc73aa",
   "metadata": {},
   "outputs": [
    {
     "name": "stderr",
     "output_type": "stream",
     "text": [
      "/tmp/ipykernel_3059900/4181590049.py:19: DeprecationWarning: Python 3.14 will, by default, filter extracted tar archives and reject files or modify their metadata. Use the filter argument to control this behavior.\n",
      "  tar.extract(member, path=output_dir)\n"
     ]
    },
    {
     "name": "stdout",
     "output_type": "stream",
     "text": [
      "Flatten-extracted: part_13.tar.gz → /home/roguchi/cse253-assignment2/data\n",
      "Flatten-extracted: part_16.tar.gz → /home/roguchi/cse253-assignment2/data\n",
      "Flatten-extracted: part_12.tar.gz → /home/roguchi/cse253-assignment2/data\n",
      "Flatten-extracted: part_18.tar.gz → /home/roguchi/cse253-assignment2/data\n",
      "Flatten-extracted: part_3.tar.gz → /home/roguchi/cse253-assignment2/data\n",
      "Flatten-extracted: part_7.tar.gz → /home/roguchi/cse253-assignment2/data\n",
      "Flatten-extracted: part_17.tar.gz → /home/roguchi/cse253-assignment2/data\n",
      "Flatten-extracted: part_20.tar.gz → /home/roguchi/cse253-assignment2/data\n",
      "Flatten-extracted: part_8.tar.gz → /home/roguchi/cse253-assignment2/data\n",
      "Flatten-extracted: part_4.tar.gz → /home/roguchi/cse253-assignment2/data\n",
      "Flatten-extracted: part_6.tar.gz → /home/roguchi/cse253-assignment2/data\n",
      "Flatten-extracted: part_15.tar.gz → /home/roguchi/cse253-assignment2/data\n",
      "Flatten-extracted: part_14.tar.gz → /home/roguchi/cse253-assignment2/data\n",
      "Flatten-extracted: part_2.tar.gz → /home/roguchi/cse253-assignment2/data\n",
      "Flatten-extracted: part_10.tar.gz → /home/roguchi/cse253-assignment2/data\n",
      "Flatten-extracted: part_11.tar.gz → /home/roguchi/cse253-assignment2/data\n",
      "Flatten-extracted: part_5.tar.gz → /home/roguchi/cse253-assignment2/data\n",
      "Flatten-extracted: part_1.tar.gz → /home/roguchi/cse253-assignment2/data\n",
      "Flatten-extracted: part_19.tar.gz → /home/roguchi/cse253-assignment2/data\n",
      "Flatten-extracted: part_9.tar.gz → /home/roguchi/cse253-assignment2/data\n"
     ]
    }
   ],
   "source": [
    "import os\n",
    "import tarfile\n",
    "\n",
    "def extract_flat_to_data(source_dir, output_dir=\"data\"):\n",
    "    source_dir = os.path.abspath(source_dir)\n",
    "    output_dir = os.path.abspath(output_dir)\n",
    "    os.makedirs(output_dir, exist_ok=True)\n",
    "\n",
    "    for filename in os.listdir(source_dir):\n",
    "        if filename.endswith(\".tar.gz\"):\n",
    "            tar_path = os.path.join(source_dir, filename)\n",
    "            with tarfile.open(tar_path, \"r:gz\") as tar:\n",
    "                for member in tar.getmembers():\n",
    "                    if \"Zone.Identifier\" in member.name or member.name.endswith(\":Zone.Identifier\"):\n",
    "                        continue\n",
    "                    if member.isfile():\n",
    "                        # Flatten path: just use the base name\n",
    "                        member.name = os.path.basename(member.name)\n",
    "                        tar.extract(member, path=output_dir)\n",
    "            print(f\"Flatten-extracted: {filename} → {output_dir}\")\n",
    "\n",
    "# Example usage:\n",
    "extract_flat_to_data(\"data_compressed/\")\n"
   ]
  },
  {
   "cell_type": "code",
   "execution_count": 1,
   "id": "d3553c4b",
   "metadata": {},
   "outputs": [],
   "source": [
    "import os\n",
    "from pydub import AudioSegment\n",
    "\n",
    "input_folder = \"data4\"  # <-- update this\n",
    "output_folder = 'data5'  # or change to \"path/to/output/folder\"\n",
    "\n",
    "for filename in os.listdir(input_folder):\n",
    "    if filename.lower().endswith(\".mp3\"):\n",
    "        mp3_path = os.path.join(input_folder, filename)\n",
    "        wav_filename = os.path.splitext(filename)[0] + \".wav\"\n",
    "        wav_path = os.path.join(output_folder, wav_filename)\n",
    "\n",
    "        audio = AudioSegment.from_mp3(mp3_path)\n",
    "        audio.export(wav_path, format=\"wav\")\n",
    "        print(f\"Converted: {filename} -> {wav_filename}\")"
   ]
  }
 ],
 "metadata": {
  "kernelspec": {
   "display_name": "Python 3",
   "language": "python",
   "name": "python3"
  },
  "language_info": {
   "codemirror_mode": {
    "name": "ipython",
    "version": 3
   },
   "file_extension": ".py",
   "mimetype": "text/x-python",
   "name": "python",
   "nbconvert_exporter": "python",
   "pygments_lexer": "ipython3",
   "version": "3.11.12"
  }
 },
 "nbformat": 4,
 "nbformat_minor": 5
}
