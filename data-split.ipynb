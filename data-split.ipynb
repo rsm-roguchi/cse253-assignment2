{
 "cells": [
  {
   "cell_type": "code",
   "execution_count": 16,
   "id": "3818806c",
   "metadata": {},
   "outputs": [],
   "source": [
    "import os\n",
    "import shutil\n",
    "from math import ceil\n",
    "\n",
    "def split_folder_into_parts(source_dir, num_parts=50):\n",
    "    files = sorted([f for f in os.listdir(source_dir) if os.path.isfile(os.path.join(source_dir, f))])\n",
    "    total_files = len(files)\n",
    "    chunk_size = ceil(total_files / num_parts)\n",
    "\n",
    "    for i in range(num_parts):\n",
    "        part_dir = os.path.join(source_dir, f'part_{i+1}')\n",
    "        os.makedirs(part_dir, exist_ok=True)\n",
    "        for f in files[i * chunk_size : (i + 1) * chunk_size]:\n",
    "            shutil.move(os.path.join(source_dir, f), os.path.join(part_dir, f))\n",
    "\n",
    "# Example usage:\n",
    "split_folder_into_parts(\"train\")\n"
   ]
  },
  {
   "cell_type": "code",
   "execution_count": 20,
   "id": "a1f04026",
   "metadata": {},
   "outputs": [
    {
     "name": "stdout",
     "output_type": "stream",
     "text": [
      "Compressed: part_37 → train/train_part_37.tar.gz\n",
      "Compressed: part_10 → train/train_part_10.tar.gz\n",
      "Compressed: part_42 → train/train_part_42.tar.gz\n",
      "Compressed: part_12 → train/train_part_12.tar.gz\n",
      "Compressed: part_35 → train/train_part_35.tar.gz\n",
      "Compressed: part_29 → train/train_part_29.tar.gz\n",
      "Compressed: part_46 → train/train_part_46.tar.gz\n",
      "Compressed: part_7 → train/train_part_7.tar.gz\n",
      "Compressed: part_13 → train/train_part_13.tar.gz\n",
      "Compressed: part_21 → train/train_part_21.tar.gz\n",
      "Compressed: part_45 → train/train_part_45.tar.gz\n",
      "Compressed: part_22 → train/train_part_22.tar.gz\n",
      "Compressed: part_6 → train/train_part_6.tar.gz\n",
      "Compressed: part_34 → train/train_part_34.tar.gz\n",
      "Compressed: part_19 → train/train_part_19.tar.gz\n",
      "Compressed: part_31 → train/train_part_31.tar.gz\n",
      "Compressed: part_1 → train/train_part_1.tar.gz\n",
      "Compressed: part_26 → train/train_part_26.tar.gz\n",
      "Compressed: part_17 → train/train_part_17.tar.gz\n",
      "Compressed: part_28 → train/train_part_28.tar.gz\n",
      "Compressed: part_43 → train/train_part_43.tar.gz\n",
      "Compressed: part_23 → train/train_part_23.tar.gz\n",
      "Compressed: part_33 → train/train_part_33.tar.gz\n",
      "Compressed: part_44 → train/train_part_44.tar.gz\n",
      "Compressed: part_2 → train/train_part_2.tar.gz\n",
      "Compressed: part_39 → train/train_part_39.tar.gz\n",
      "Compressed: part_3 → train/train_part_3.tar.gz\n",
      "Compressed: part_5 → train/train_part_5.tar.gz\n",
      "Compressed: part_41 → train/train_part_41.tar.gz\n",
      "Compressed: part_25 → train/train_part_25.tar.gz\n",
      "Compressed: part_11 → train/train_part_11.tar.gz\n",
      "Compressed: part_18 → train/train_part_18.tar.gz\n",
      "Compressed: part_9 → train/train_part_9.tar.gz\n",
      "Compressed: part_49 → train/train_part_49.tar.gz\n",
      "Compressed: part_38 → train/train_part_38.tar.gz\n",
      "Compressed: part_32 → train/train_part_32.tar.gz\n",
      "Compressed: part_14 → train/train_part_14.tar.gz\n",
      "Compressed: part_36 → train/train_part_36.tar.gz\n",
      "Compressed: part_8 → train/train_part_8.tar.gz\n",
      "Compressed: part_30 → train/train_part_30.tar.gz\n",
      "Compressed: part_27 → train/train_part_27.tar.gz\n",
      "Compressed: part_47 → train/train_part_47.tar.gz\n",
      "Compressed: part_20 → train/train_part_20.tar.gz\n",
      "Compressed: part_48 → train/train_part_48.tar.gz\n",
      "Compressed: part_50 → train/train_part_50.tar.gz\n",
      "Compressed: part_15 → train/train_part_15.tar.gz\n",
      "Compressed: part_16 → train/train_part_16.tar.gz\n",
      "Compressed: part_4 → train/train_part_4.tar.gz\n",
      "Compressed: part_24 → train/train_part_24.tar.gz\n",
      "Compressed: part_40 → train/train_part_40.tar.gz\n"
     ]
    }
   ],
   "source": [
    "import os\n",
    "import tarfile\n",
    "\n",
    "def compress_all_subfolders(parent_dir):\n",
    "    for item in os.listdir(parent_dir):\n",
    "        full_path = os.path.join(parent_dir, item)\n",
    "        if os.path.isdir(full_path):\n",
    "            output_tar = os.path.join(parent_dir, f\"train_{item}.tar.gz\")\n",
    "            with tarfile.open(output_tar, \"w:gz\") as tar:\n",
    "                tar.add(full_path, arcname=item)\n",
    "            print(f\"Compressed: {item} → {output_tar}\")\n",
    "\n",
    "# Example usage:\n",
    "compress_all_subfolders(\"train\")\n"
   ]
  }
 ],
 "metadata": {
  "kernelspec": {
   "display_name": "base",
   "language": "python",
   "name": "python3"
  },
  "language_info": {
   "codemirror_mode": {
    "name": "ipython",
    "version": 3
   },
   "file_extension": ".py",
   "mimetype": "text/x-python",
   "name": "python",
   "nbconvert_exporter": "python",
   "pygments_lexer": "ipython3",
   "version": "3.12.7"
  }
 },
 "nbformat": 4,
 "nbformat_minor": 5
}
