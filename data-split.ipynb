{
 "cells": [
  {
   "cell_type": "code",
   "execution_count": 2,
   "id": "44413ba8",
   "metadata": {},
   "outputs": [],
   "source": [
    "import os\n",
    "import shutil\n",
    "from math import ceil\n",
    "import zipfile"
   ]
  },
  {
   "cell_type": "code",
   "execution_count": null,
   "id": "3818806c",
   "metadata": {},
   "outputs": [],
   "source": [
    "\n",
    "\n",
    "def split_folder_into_parts(source_dir, num_parts=50):\n",
    "    files = sorted([f for f in os.listdir(source_dir) if os.path.isfile(os.path.join(source_dir, f))])\n",
    "    total_files = len(files)\n",
    "    chunk_size = ceil(total_files / num_parts)\n",
    "\n",
    "    for i in range(num_parts):\n",
    "        part_dir = os.path.join(source_dir, f'part_{i+1}')\n",
    "        os.makedirs(part_dir, exist_ok=True)\n",
    "        for f in files[i * chunk_size : (i + 1) * chunk_size]:\n",
    "            shutil.move(os.path.join(source_dir, f), os.path.join(part_dir, f))\n",
    "\n",
    "# Example usage:\n",
    "split_folder_into_parts(\"train\")\n"
   ]
  },
  {
   "cell_type": "code",
   "execution_count": 1,
   "id": "babc73aa",
   "metadata": {},
   "outputs": [
    {
     "name": "stderr",
     "output_type": "stream",
     "text": [
      "/tmp/ipykernel_3059900/4181590049.py:19: DeprecationWarning: Python 3.14 will, by default, filter extracted tar archives and reject files or modify their metadata. Use the filter argument to control this behavior.\n",
      "  tar.extract(member, path=output_dir)\n"
     ]
    },
    {
     "name": "stdout",
     "output_type": "stream",
     "text": [
      "Flatten-extracted: part_13.tar.gz → /home/roguchi/cse253-assignment2/data\n",
      "Flatten-extracted: part_16.tar.gz → /home/roguchi/cse253-assignment2/data\n",
      "Flatten-extracted: part_12.tar.gz → /home/roguchi/cse253-assignment2/data\n",
      "Flatten-extracted: part_18.tar.gz → /home/roguchi/cse253-assignment2/data\n",
      "Flatten-extracted: part_3.tar.gz → /home/roguchi/cse253-assignment2/data\n",
      "Flatten-extracted: part_7.tar.gz → /home/roguchi/cse253-assignment2/data\n",
      "Flatten-extracted: part_17.tar.gz → /home/roguchi/cse253-assignment2/data\n",
      "Flatten-extracted: part_20.tar.gz → /home/roguchi/cse253-assignment2/data\n",
      "Flatten-extracted: part_8.tar.gz → /home/roguchi/cse253-assignment2/data\n",
      "Flatten-extracted: part_4.tar.gz → /home/roguchi/cse253-assignment2/data\n",
      "Flatten-extracted: part_6.tar.gz → /home/roguchi/cse253-assignment2/data\n",
      "Flatten-extracted: part_15.tar.gz → /home/roguchi/cse253-assignment2/data\n",
      "Flatten-extracted: part_14.tar.gz → /home/roguchi/cse253-assignment2/data\n",
      "Flatten-extracted: part_2.tar.gz → /home/roguchi/cse253-assignment2/data\n",
      "Flatten-extracted: part_10.tar.gz → /home/roguchi/cse253-assignment2/data\n",
      "Flatten-extracted: part_11.tar.gz → /home/roguchi/cse253-assignment2/data\n",
      "Flatten-extracted: part_5.tar.gz → /home/roguchi/cse253-assignment2/data\n",
      "Flatten-extracted: part_1.tar.gz → /home/roguchi/cse253-assignment2/data\n",
      "Flatten-extracted: part_19.tar.gz → /home/roguchi/cse253-assignment2/data\n",
      "Flatten-extracted: part_9.tar.gz → /home/roguchi/cse253-assignment2/data\n"
     ]
    }
   ],
   "source": [
    "import os\n",
    "import tarfile\n",
    "\n",
    "def extract_flat_to_data(source_dir, output_dir=\"data\"):\n",
    "    source_dir = os.path.abspath(source_dir)\n",
    "    output_dir = os.path.abspath(output_dir)\n",
    "    os.makedirs(output_dir, exist_ok=True)\n",
    "\n",
    "    for filename in os.listdir(source_dir):\n",
    "        if filename.endswith(\".tar.gz\"):\n",
    "            tar_path = os.path.join(source_dir, filename)\n",
    "            with tarfile.open(tar_path, \"r:gz\") as tar:\n",
    "                for member in tar.getmembers():\n",
    "                    if \"Zone.Identifier\" in member.name or member.name.endswith(\":Zone.Identifier\"):\n",
    "                        continue\n",
    "                    if member.isfile():\n",
    "                        # Flatten path: just use the base name\n",
    "                        member.name = os.path.basename(member.name)\n",
    "                        tar.extract(member, path=output_dir)\n",
    "            print(f\"Flatten-extracted: {filename} → {output_dir}\")\n",
    "\n",
    "# Example usage:\n",
    "extract_flat_to_data(\"data_compressed/\")\n"
   ]
  },
  {
   "cell_type": "code",
   "execution_count": 1,
   "id": "d3553c4b",
   "metadata": {},
   "outputs": [
    {
     "name": "stdout",
     "output_type": "stream",
     "text": [
      "Converted: yb15.mp3 -> yb15.wav\n",
      "Converted: yb29.mp3 -> yb29.wav\n",
      "Converted: yb32.mp3 -> yb32.wav\n",
      "Converted: yb18.mp3 -> yb18.wav\n",
      "Converted: yb9.mp3 -> yb9.wav\n",
      "Converted: yb26.mp3 -> yb26.wav\n",
      "Converted: yb21.mp3 -> yb21.wav\n",
      "Converted: yb17.mp3 -> yb17.wav\n",
      "Converted: yb10.mp3 -> yb10.wav\n",
      "Converted: yb27.mp3 -> yb27.wav\n",
      "Converted: yb24.mp3 -> yb24.wav\n",
      "Converted: YB1.mp3 -> YB1.wav\n",
      "Converted: yb34.mp3 -> yb34.wav\n",
      "Converted: yb16.mp3 -> yb16.wav\n",
      "Converted: baby2.mp3 -> baby2.wav\n",
      "Converted: yb12.mp3 -> yb12.wav\n",
      "Converted: yb20.mp3 -> yb20.wav\n",
      "Converted: yb14.mp3 -> yb14.wav\n",
      "Converted: yb8.mp3 -> yb8.wav\n",
      "Converted: yb23.mp3 -> yb23.wav\n",
      "Converted: yb22.mp3 -> yb22.wav\n",
      "Converted: yb25.mp3 -> yb25.wav\n",
      "Converted: yb30.mp3 -> yb30.wav\n",
      "Converted: yb33.mp3 -> yb33.wav\n",
      "Converted: YB2.mp3 -> YB2.wav\n",
      "Converted: yb11.mp3 -> yb11.wav\n",
      "Converted: YB3.mp3 -> YB3.wav\n",
      "Converted: yb7.mp3 -> yb7.wav\n",
      "Converted: yb19.mp3 -> yb19.wav\n",
      "Converted: yb28.mp3 -> yb28.wav\n",
      "Converted: baby1.mp3 -> baby1.wav\n",
      "Converted: yb5.mp3 -> yb5.wav\n",
      "Converted: yb31.mp3 -> yb31.wav\n",
      "Converted: yb13.mp3 -> yb13.wav\n",
      "Converted: YB4.mp3 -> YB4.wav\n",
      "Converted: yb6.mp3 -> yb6.wav\n"
     ]
    }
   ],
   "source": [
    "import os\n",
    "from pydub import AudioSegment\n",
    "\n",
    "input_folder = \"data2\"  # <-- update this\n",
    "output_folder = 'data3'  # or change to \"path/to/output/folder\"\n",
    "\n",
    "for filename in os.listdir(input_folder):\n",
    "    if filename.lower().endswith(\".mp3\"):\n",
    "        mp3_path = os.path.join(input_folder, filename)\n",
    "        wav_filename = os.path.splitext(filename)[0] + \".wav\"\n",
    "        wav_path = os.path.join(output_folder, wav_filename)\n",
    "\n",
    "        audio = AudioSegment.from_mp3(mp3_path)\n",
    "        audio.export(wav_path, format=\"wav\")\n",
    "        print(f\"Converted: {filename} -> {wav_filename}\")"
   ]
  }
 ],
 "metadata": {
  "kernelspec": {
   "display_name": "Python 3",
   "language": "python",
   "name": "python3"
  },
  "language_info": {
   "codemirror_mode": {
    "name": "ipython",
    "version": 3
   },
   "file_extension": ".py",
   "mimetype": "text/x-python",
   "name": "python",
   "nbconvert_exporter": "python",
   "pygments_lexer": "ipython3",
   "version": "3.11.12"
  }
 },
 "nbformat": 4,
 "nbformat_minor": 5
}
